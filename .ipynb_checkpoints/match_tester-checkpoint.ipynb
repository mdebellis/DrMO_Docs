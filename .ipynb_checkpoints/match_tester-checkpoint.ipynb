{
 "cells": [
  {
   "cell_type": "code",
   "execution_count": 28,
   "id": "e3d9d732",
   "metadata": {},
   "outputs": [],
   "source": [
    "import os\n",
    "\n",
    "AGRAPH_HOST = os.environ.get('AGRAPH_HOST')\n",
    "AGRAPH_PORT = int(os.environ.get('AGRAPH_PORT', '10035'))\n",
    "AGRAPH_USER = os.environ.get('AGRAPH_USER')\n",
    "AGRAPH_PASSWORD = os.environ.get('AGRAPH_PASSWORD')"
   ]
  },
  {
   "cell_type": "code",
   "execution_count": 29,
   "id": "34f4163b",
   "metadata": {},
   "outputs": [
    {
     "name": "stdout",
     "output_type": "stream",
     "text": [
      "None 10035 None None\n"
     ]
    }
   ],
   "source": [
    "print(AGRAPH_HOST, AGRAPH_PORT, AGRAPH_USER, AGRAPH_PASSWORD)"
   ]
  },
  {
   "cell_type": "code",
   "execution_count": null,
   "id": "34092c86",
   "metadata": {},
   "outputs": [],
   "source": []
  }
 ],
 "metadata": {
  "kernelspec": {
   "display_name": "Python 3 (ipykernel)",
   "language": "python",
   "name": "python3"
  },
  "language_info": {
   "codemirror_mode": {
    "name": "ipython",
    "version": 3
   },
   "file_extension": ".py",
   "mimetype": "text/x-python",
   "name": "python",
   "nbconvert_exporter": "python",
   "pygments_lexer": "ipython3",
   "version": "3.11.5"
  }
 },
 "nbformat": 4,
 "nbformat_minor": 5
}
