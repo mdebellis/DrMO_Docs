{
 "cells": [
  {
   "cell_type": "markdown",
   "metadata": {},
   "source": [
    "#### Connecting to AllegroGraph Server\n",
    "\n",
    "On a localhost."
   ]
  },
  {
   "cell_type": "code",
   "execution_count": 3,
   "metadata": {},
   "outputs": [
    {
     "name": "stdout",
     "output_type": "stream",
     "text": [
      "localhost 10035 daanaea 0101\n",
      "Connecting to AllegroGraph server -- host:'localhost' port:10035\n",
      "Available catalogs:\n",
      "  - <root catalog>\n",
      "  - fedshard\n",
      "  - system\n",
      "[None, 'fedshard', 'system']\n",
      "Available repositories in catalog 'None':\n",
      "  - drmo\n"
     ]
    }
   ],
   "source": [
    "import os\n",
    "\n",
    "AGRAPH_HOST = os.environ.get('AGRAPH_HOST', 'localhost')\n",
    "AGRAPH_PORT = int(os.environ.get('AGRAPH_PORT', '10035'))\n",
    "AGRAPH_USER = os.environ.get('AGRAPH_USER', 'daanaea')\n",
    "AGRAPH_PASSWORD = os.environ.get('AGRAPH_PASSWORD', '0101')\n",
    "print(AGRAPH_HOST, AGRAPH_PORT, AGRAPH_USER, AGRAPH_PASSWORD)\n",
    "# pip install agraph-python pycurl\n",
    "\n",
    "from franz.openrdf.connect import ag_connect\n",
    "from franz.openrdf.sail.allegrographserver import AllegroGraphServer\n",
    "\n",
    "print(\"Connecting to AllegroGraph server --\",\n",
    "      \"host:'%s' port:%s\" % (AGRAPH_HOST, AGRAPH_PORT))\n",
    "\n",
    "server = AllegroGraphServer(AGRAPH_HOST, AGRAPH_PORT,\n",
    "                            AGRAPH_USER, AGRAPH_PASSWORD)\n",
    "print(\"Available catalogs:\")\n",
    "for cat_name in server.listCatalogs():\n",
    "    if cat_name is None:\n",
    "        print('  - <root catalog>')\n",
    "    else:\n",
    "        print('  - ' + str(cat_name))\n",
    "        \n",
    "print(server.listCatalogs())\n",
    "catalog = server.openCatalog('')\n",
    "\n",
    "print(\"Available repositories in catalog '%s':\" % catalog.getName()) # default root catalog\n",
    "\n",
    "for repo_name in catalog.listRepositories():\n",
    "    print('  - ' + repo_name)"
   ]
  },
  {
   "cell_type": "code",
   "execution_count": 4,
   "metadata": {},
   "outputs": [],
   "source": [
    "# Create a connection object and bind to conn. The conn object is used to connect with an AllegroGraph repository\n",
    "conn = ag_connect(repo='drmo', host='localhost', port='10035', user='daanaea', password='0101')"
   ]
  },
  {
   "cell_type": "markdown",
   "metadata": {},
   "source": [
    "#### Parser"
   ]
  },
  {
   "cell_type": "code",
   "execution_count": 5,
   "metadata": {},
   "outputs": [],
   "source": [
    "from franz.openrdf.vocabulary import RDF\n",
    "import uuid"
   ]
  },
  {
   "cell_type": "code",
   "execution_count": 6,
   "metadata": {},
   "outputs": [],
   "source": [
    "creator_property = conn.createURI(\"http://purl.org/dc/terms/creator\")\n",
    "person_class = conn.createURI(\"http://www.w3.org/ns/prov#Person\")\n",
    "domain_ont_str = \"http://www.semanticweb.org/ontologies/2022/titutuli/nivedita/drmo#\"\n",
    "rdfs_label_prop = conn.createURI(\"http://www.w3.org/2000/01/rdf-schema#label\")\n",
    "has_author_prop = conn.createURI(\"http://www.semanticweb.org/ontologies/2022/titutuli/nivedita/drmo#hasAuthor\")\n",
    "document_class = conn.createURI(\"http://www.semanticweb.org/ontologies/2022/titutuli/nivedita/drmo#Document\")\n",
    "first_name_prop = conn.createURI(\"http://www.semanticweb.org/ontologies/2022/titutuli/nivedita/drmo#firstName\")\n",
    "last_name_prop = conn.createURI(\"http://www.semanticweb.org/ontologies/2022/titutuli/nivedita/drmo#lastName\")"
   ]
  },
  {
   "cell_type": "code",
   "execution_count": 7,
   "metadata": {},
   "outputs": [],
   "source": [
    "author_string_0 = \"Zhang, Wengang; Xiang, Jiaying; Huang, Ruijie; Liu, Hanlong\"\n",
    "author_string_1 = \"Sadeghyar, A; Watts, DC; Schedle, A; DeBellis, M\"\n",
    "author_string_2 = \"Simila, HO; DeBellis, M\"\n",
    "author_string_3 = \"Makrgeorgou, A\""
   ]
  },
  {
   "cell_type": "code",
   "execution_count": 12,
   "metadata": {},
   "outputs": [
    {
     "data": {
      "text/plain": [
       "<franz.openrdf.query.repositoryresult.RepositoryResult at 0x10512ded0>"
      ]
     },
     "execution_count": 12,
     "metadata": {},
     "output_type": "execute_result"
    }
   ],
   "source": [
    "conn.getStatements(None, RDF.TYPE, document_class)"
   ]
  },
  {
   "cell_type": "code",
   "execution_count": 8,
   "metadata": {},
   "outputs": [],
   "source": [
    "def add_authors():\n",
    "    statements = conn.getStatements(None, RDF.TYPE, document_class)\n",
    "    with statements:\n",
    "        for statement in statements:\n",
    "            document = statement.getSubject()\n",
    "            author_objects = conn.getStatements(document, has_author_prop, None)\n",
    "            if len(author_objects) == 0:\n",
    "                author_statements = conn.getStatements(document, creator_property, None)\n",
    "                for author_statement in author_statements:\n",
    "                    author_string = str(author_statement[2])\n",
    "                    # Line below is required to strip out extra \" symbols that result from transforming AG Literal to Python string\n",
    "                    author_string = author_string[1:len(author_string) - 1]\n",
    "                    process_authors(document, author_string)"
   ]
  },
  {
   "cell_type": "code",
   "execution_count": 9,
   "metadata": {},
   "outputs": [],
   "source": [
    "# Takes string for first and last name (first name can be initials) and returns an author object if one exists\n",
    "# If one doesn't exist it is created and the appropriate properties are set\n",
    "# It would be nice to make the test more flexible. E.g., so that \"DeWaal\", \"De Waal\", \"deWaal\", \"Dewaal\", and \"De-Waal\" are all considered the same\n",
    "# To make this flexible might want to change the line below from getStatements to a SPARQL query with a regex in the query\n",
    "def find_or_make_author_object(first_name, last_name):\n",
    "    first_name = first_name.strip()\n",
    "    last_name = last_name.strip()\n",
    "    if first_name != \"\":\n",
    "        author_label = first_name + \" \" + last_name\n",
    "    else:\n",
    "        author_label = last_name\n",
    "    author_statements = conn.getStatements(None, rdfs_label_prop, author_label) # This tests if any existing objects have the name of the current author\n",
    "    if len(author_statements) > 0:\n",
    "        for author_statement in author_statements:\n",
    "            print(\"Found author: \", author_label)\n",
    "            return author_statement.getSubject()\n",
    "    else:\n",
    "        print(\"Author label:\", author_label)\n",
    "        author_iri = conn.createURI(domain_ont_str + str(uuid.uuid4()))  # Creates a UUID for the IRI for a new instance of Person\n",
    "        conn.add(author_iri, RDF.TYPE, person_class)\n",
    "        conn.add(author_iri, rdfs_label_prop, author_label)\n",
    "        conn.add(author_iri, first_name_prop, first_name)\n",
    "        conn.add(author_iri, last_name_prop, last_name)\n",
    "        return author_iri"
   ]
  },
  {
   "cell_type": "code",
   "execution_count": 10,
   "metadata": {},
   "outputs": [],
   "source": [
    "# For testing use this ontology: https://github.com/mdebellis/DrMO_Docs/commits/main/Ontologies/drmo_na_3_29_24.ttl\n",
    "# It has documents but no authors\n",
    "def process_authors(document, author_string):\n",
    "    print(author_string)\n",
    "    author = None\n",
    "    author_list = []\n",
    "    if \";\" in author_string:  # First test is if there is a semi-colon to delimit names of authors\n",
    "        author_list_un_stripped = author_string.split(\";\")\n",
    "        for author_string in author_list_un_stripped:  # Need to test for blank space as a delimiter so want to strip out leading and trailing blanks\n",
    "            author_list.append(author_string.strip())\n",
    "        print(\"Stripped string list:\", author_list)\n",
    "        if len(author_list) == 2 and \" \" not in author_list[0]: # In hindsight don't think this code is needed. This is to test for one author but\n",
    "            last_name = author_list[0]                          # if only one author there wouldn't be a semi-colon anyway\n",
    "            first_name = author_list[1]\n",
    "            author = find_or_make_author_object(first_name, last_name)\n",
    "            conn.add(document, has_author_prop, author)\n",
    "        elif len(author_list) < 2:                       # Don't think this is needed either. To test for single author with one name\n",
    "            last_name = author_list[0]                   # as above if that's the case, there won't be a semi-colon to begin with\n",
    "            first_name = \"\"\n",
    "            author = find_or_make_author_object(first_name, last_name)\n",
    "            conn.add(document, has_author_prop, author)\n",
    "        else:\n",
    "            for author in author_list:\n",
    "                if \",\" in author:                    # For author first and last delimited by comma. e.g., \"Chomsky, Noam\"\n",
    "                    name_list = author.split(\",\")\n",
    "                    last_name = name_list[0]\n",
    "                    first_name = name_list[1]\n",
    "                    author = find_or_make_author_object(first_name, last_name)\n",
    "                    conn.add(document, has_author_prop, author)\n",
    "                elif \" \" in author:                  # For author first and last delimited by space. e.g., \"Chomsky Noam\"\n",
    "                    name_list = author.split(\" \")\n",
    "                    last_name = name_list[0]\n",
    "                    first_name = name_list[1]\n",
    "                    author = find_or_make_author_object(first_name, last_name)\n",
    "                    conn.add(document, has_author_prop, author)\n",
    "                else:                               # When there is only a last name (no delimiter) e.g., \"Turing, Alan; Hauser; Chomsky, Noam\"\n",
    "                    last_name = author[0]\n",
    "                    first_name = \"\"\n",
    "                    author = find_or_make_author_object(first_name, last_name)\n",
    "                    conn.add(document, has_author_prop, author)\n",
    "    elif \",\" in author_string:   # Next test is if a comma is used to delimit authors\n",
    "        author_list_un_stripped = author_string.split(\",\")\n",
    "        for author_string in author_list_un_stripped:\n",
    "            author_list.append(author_string.strip())  #Need to test for blank space as a delimiter so want to strip out leading and trailing blanks\n",
    "        print(\"Stripped string list:\", author_list)\n",
    "        if len(author_list) == 2 and \" \" not in author_list[0]:   # This was to test when there is only one author but won't always work because there still may be\n",
    "            last_name = author_list[0]                            # a blank. Will work if the entire string is \"Chomsky,Noam\" but not if it is \"Chomsky, Noam\"\n",
    "            first_name = author_list[1]\n",
    "            author = find_or_make_author_object(first_name, last_name)\n",
    "            conn.add(document, has_author_prop, author)\n",
    "        elif len(author_list) < 2:\n",
    "            last_name = author_list[0]\n",
    "            first_name = \"\"\n",
    "            author = find_or_make_author_object(first_name, last_name)\n",
    "            conn.add(document, has_author_prop, author)\n",
    "        else:\n",
    "            for author_string in author_list:                   # Standard case where both full names and first, last are delimited by commas\n",
    "                if \",\" in author_string:                        # e.g., \"Turing, Alan, Chomsky, Noam\"\n",
    "                    name_list = author_string.split(\",\")\n",
    "                    last_name = name_list[0]\n",
    "                    first_name = name_list[1]\n",
    "                    author = find_or_make_author_object(first_name, last_name)\n",
    "                    conn.add(document, has_author_prop, author)\n",
    "                else:                                           # Where full names delimited by commas and last-first by spaces\n",
    "                    name_list = author_string.split(\" \")        # e.g., \"Turing Alan, Chomsky Noam\"\n",
    "                    last_name = name_list[0]\n",
    "                    first_name = name_list[1]\n",
    "                    author = find_or_make_author_object(first_name, last_name)\n",
    "                    conn.add(document, has_author_prop, author)"
   ]
  },
  {
   "cell_type": "code",
   "execution_count": 11,
   "metadata": {},
   "outputs": [],
   "source": [
    "# Cases to add: 1) When there is just one name delimited by comma or string\n",
    "# Was trying to check for those in code above but don't think it is correct. e.g.,  when complete string is \"Chomsky, Noam\"\n",
    "# 2) When complete string is just a last name. E.g., \"Chomsky\"\n",
    "\n",
    "add_authors()"
   ]
  },
  {
   "cell_type": "markdown",
   "metadata": {},
   "source": [
    "Demo"
   ]
  },
  {
   "cell_type": "code",
   "execution_count": 1,
   "metadata": {},
   "outputs": [
    {
     "name": "stdout",
     "output_type": "stream",
     "text": [
      "[('Noam', 'Chomsky'), ('Alan', 'Turing'), ('Richard', 'Dawkins')]\n",
      "[('Noam', 'Chomsky'), ('Alan', 'Turing'), ('Richard', 'Dawkins'), ('Frans', 'de Waal')]\n",
      "[('Noam', 'Chomsky'), ('Frans', 'de Waal')]\n",
      "[('Frans', 'de Waal'), ('Noam', 'Chomsky'), ('Richard', 'Dawkins')]\n",
      "[('Alan', 'Turing'), ('Richard', 'Dawkins')]\n",
      "[('Noam', 'Chomsky'), ('Richard', 'Dawkins')]\n",
      "[('Noam', 'Chomsky'), ('Alan', 'Turing')]\n",
      "[('Noam', 'Chomsky'), ('Alan', 'Turing'), ('Frans', 'de Waal')]\n",
      "[('Noam', 'Chomsky'), ('Alan', 'Turing'), ('Richard', 'Dawkins')]\n",
      "[('Noam', 'Chomsky'), ('Alan', 'Turing'), ('Richard', 'Dawkins'), ('Frans', 'de Waal')]\n",
      "[('Turing', 'Chomsky'), ('Dawkins', 'Alan')]\n",
      "[('Turing Alan', 'Chomsky Noam')]\n",
      "[('Alan', 'Turing')]\n",
      "[]\n",
      "[('Frans', 'de Waal')]\n",
      "[]\n"
     ]
    }
   ],
   "source": [
    "import re\n",
    "\n",
    "def parse_names_last_names(input_string):\n",
    "    # Regular expression to match names and last names\n",
    "    pattern = r'([A-Za-z]+(?: [A-Za-z]+)?), ([A-Za-z]+(?: [A-Za-z]+)?)'\n",
    "    \n",
    "    # Find all matches in the input string\n",
    "    matches = re.findall(pattern, input_string)\n",
    "    \n",
    "    # Extract names and last names from matches\n",
    "    parsed_names_last_names = [(name.strip(), last_name.strip()) for last_name, name in matches]\n",
    "    \n",
    "    return parsed_names_last_names\n",
    "\n",
    "# Test the function with example strings\n",
    "strings = [\n",
    "    \"Chomsky, Noam; Turing, Alan; Dawkins, Richard\",\n",
    "    \"Chomsky, Noam; Turing, Alan; Dawkins, Richard; de Waal, Frans\",\n",
    "    \"Chomsky, Noam; de Waal, Frans\",\n",
    "    \"de Waal, Frans; Chomsky, Noam; Turing; Dawkins, Richard\",\n",
    "    \"Chomsky; Turing, Alan; Dawkins, Richard\",\n",
    "    \"Chomsky, Noam; Turing; Dawkins, Richard\",\n",
    "    \"Chomsky, Noam; Turing, Alan; Dawkins\",\n",
    "    \"Chomsky, Noam; Turing, Alan; Dawkins; de Waal, Frans\", # a bug\n",
    "    \"Chomsky, Noam, Turing, Alan, Dawkins, Richard\",\n",
    "    \"Chomsky, Noam, Turing, Alan, Dawkins, Richard, de Waal, Frans\",\n",
    "    \"Chomsky, Turing, Alan, Dawkins, Richard\",\n",
    "    \"Chomsky Noam, Turing Alan, Dawkins Richard\",\n",
    "    \"Turing, Alan\",\n",
    "    \"Dawkins Richard\",\n",
    "    \"de Waal, Frans\",\n",
    "    \"de Waal Frans\"\n",
    "]\n",
    "\n",
    "for string in strings:\n",
    "    print(parse_names_last_names(string))\n"
   ]
  },
  {
   "cell_type": "code",
   "execution_count": null,
   "metadata": {},
   "outputs": [],
   "source": []
  },
  {
   "cell_type": "code",
   "execution_count": null,
   "metadata": {},
   "outputs": [],
   "source": []
  },
  {
   "cell_type": "code",
   "execution_count": null,
   "metadata": {},
   "outputs": [],
   "source": []
  },
  {
   "cell_type": "code",
   "execution_count": null,
   "metadata": {},
   "outputs": [],
   "source": []
  }
 ],
 "metadata": {
  "kernelspec": {
   "display_name": "Python 3 (ipykernel)",
   "language": "python",
   "name": "python3"
  },
  "language_info": {
   "codemirror_mode": {
    "name": "ipython",
    "version": 3
   },
   "file_extension": ".py",
   "mimetype": "text/x-python",
   "name": "python",
   "nbconvert_exporter": "python",
   "pygments_lexer": "ipython3",
   "version": "3.11.5"
  }
 },
 "nbformat": 4,
 "nbformat_minor": 2
}
