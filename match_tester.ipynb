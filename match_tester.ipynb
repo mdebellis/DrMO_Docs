{
 "cells": [
  {
   "cell_type": "markdown",
   "id": "7ecd26c9",
   "metadata": {},
   "source": [
    "#### Connecting to AllegroGraph Server\n",
    "\n",
    "On a localhost."
   ]
  },
  {
   "cell_type": "code",
   "execution_count": 1,
   "id": "e3d9d732",
   "metadata": {},
   "outputs": [],
   "source": [
    "import os\n",
    "\n",
    "AGRAPH_HOST = os.environ.get('AGRAPH_HOST', 'localhost')\n",
    "AGRAPH_PORT = int(os.environ.get('AGRAPH_PORT', '10035'))\n",
    "AGRAPH_USER = os.environ.get('AGRAPH_USER', 'daanaea')\n",
    "AGRAPH_PASSWORD = os.environ.get('AGRAPH_PASSWORD', '0101')"
   ]
  },
  {
   "cell_type": "code",
   "execution_count": 2,
   "id": "34f4163b",
   "metadata": {},
   "outputs": [
    {
     "name": "stdout",
     "output_type": "stream",
     "text": [
      "localhost 10035 daanaea 0101\n"
     ]
    }
   ],
   "source": [
    "print(AGRAPH_HOST, AGRAPH_PORT, AGRAPH_USER, AGRAPH_PASSWORD)"
   ]
  },
  {
   "cell_type": "code",
   "execution_count": 3,
   "id": "34092c86",
   "metadata": {},
   "outputs": [
    {
     "name": "stdout",
     "output_type": "stream",
     "text": [
      "Connecting to AllegroGraph server -- host:'localhost' port:10035\n"
     ]
    }
   ],
   "source": [
    "# pip install agraph-python pycurl\n",
    "\n",
    "from franz.openrdf.connect import ag_connect\n",
    "from franz.openrdf.sail.allegrographserver import AllegroGraphServer\n",
    "\n",
    "print(\"Connecting to AllegroGraph server --\",\n",
    "      \"host:'%s' port:%s\" % (AGRAPH_HOST, AGRAPH_PORT))\n",
    "\n",
    "server = AllegroGraphServer(AGRAPH_HOST, AGRAPH_PORT,\n",
    "                            AGRAPH_USER, AGRAPH_PASSWORD)"
   ]
  },
  {
   "cell_type": "code",
   "execution_count": 4,
   "id": "7d81759b",
   "metadata": {},
   "outputs": [
    {
     "name": "stdout",
     "output_type": "stream",
     "text": [
      "Available catalogs:\n",
      "  - <root catalog>\n",
      "  - fedshard\n",
      "  - system\n",
      "[None, 'fedshard', 'system']\n"
     ]
    }
   ],
   "source": [
    "print(\"Available catalogs:\")\n",
    "for cat_name in server.listCatalogs():\n",
    "    if cat_name is None:\n",
    "        print('  - <root catalog>')\n",
    "    else:\n",
    "        print('  - ' + str(cat_name))\n",
    "        \n",
    "print(server.listCatalogs())"
   ]
  },
  {
   "cell_type": "code",
   "execution_count": 5,
   "id": "0ff596ff",
   "metadata": {},
   "outputs": [
    {
     "name": "stdout",
     "output_type": "stream",
     "text": [
      "Available repositories in catalog 'None':\n",
      "  - drmo\n"
     ]
    }
   ],
   "source": [
    "catalog = server.openCatalog('')\n",
    "\n",
    "print(\"Available repositories in catalog '%s':\" % catalog.getName())\n",
    "\n",
    "for repo_name in catalog.listRepositories():\n",
    "    print('  - ' + repo_name)"
   ]
  },
  {
   "cell_type": "code",
   "execution_count": 6,
   "id": "03f08f14",
   "metadata": {},
   "outputs": [],
   "source": [
    "conn = ag_connect(repo='drmo', host='localhost', port='10035',\n",
    "                  user='daanaea', password='0101')"
   ]
  },
  {
   "cell_type": "code",
   "execution_count": null,
   "id": "1669a6d6",
   "metadata": {},
   "outputs": [],
   "source": []
  },
  {
   "cell_type": "code",
   "execution_count": null,
   "id": "6b679920",
   "metadata": {},
   "outputs": [],
   "source": []
  },
  {
   "cell_type": "code",
   "execution_count": null,
   "id": "1124424f",
   "metadata": {},
   "outputs": [],
   "source": []
  },
  {
   "cell_type": "code",
   "execution_count": null,
   "id": "18001cbd",
   "metadata": {},
   "outputs": [],
   "source": []
  },
  {
   "cell_type": "code",
   "execution_count": null,
   "id": "3748dbab",
   "metadata": {},
   "outputs": [],
   "source": []
  }
 ],
 "metadata": {
  "kernelspec": {
   "display_name": "Python 3 (ipykernel)",
   "language": "python",
   "name": "python3"
  },
  "language_info": {
   "codemirror_mode": {
    "name": "ipython",
    "version": 3
   },
   "file_extension": ".py",
   "mimetype": "text/x-python",
   "name": "python",
   "nbconvert_exporter": "python",
   "pygments_lexer": "ipython3",
   "version": "3.11.5"
  }
 },
 "nbformat": 4,
 "nbformat_minor": 5
}
